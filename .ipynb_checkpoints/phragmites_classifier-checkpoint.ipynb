{
 "cells": [
  {
   "cell_type": "markdown",
   "metadata": {},
   "source": [
    "# Phragmites Classification: Full Image Classification"
   ]
  },
  {
   "cell_type": "markdown",
   "metadata": {},
   "source": [
    "This notebook represents a beta application for the segmentation of the plant Phragmites in satelite images.\n",
    "<br>\n",
    "\n",
    "Built by Troy Saltiel and Greg Lee\n",
    "\n",
    "Last modified: 04.15.20"
   ]
  },
  {
   "cell_type": "code",
   "execution_count": 1,
   "metadata": {},
   "outputs": [],
   "source": [
    "#Libraries: \n",
    "import os\n",
    "import numpy as np\n",
    "import pandas as pd\n",
    "\n",
    "import matplotlib.pyplot as plt\n",
    "import matplotlib as mpl\n",
    "import rasterio as rio\n",
    "import earthpy as et\n",
    "import earthpy.spatial as es\n",
    "import earthpy.plot as ep\n",
    "\n",
    "import sklearn as sk\n",
    "from sklearn.model_selection import train_test_split\n",
    "\n",
    "import tensorflow as tf\n",
    "\n",
    "\n",
    "mpl.rcParams['figure.figsize'] = (10, 10)\n",
    "mpl.rcParams['axes.titlesize'] = 20"
   ]
  },
  {
   "cell_type": "markdown",
   "metadata": {},
   "source": [
    "## Load Imagery"
   ]
  },
  {
   "cell_type": "code",
   "execution_count": 2,
   "metadata": {},
   "outputs": [],
   "source": [
    "directory = './images/'\n",
    "\n",
    "#Copy the image paths\n",
    "image_path = []\n",
    "\n",
    "for file in os.listdir(directory):\n",
    "    filename = os.fsdecode(file)\n",
    "    image_path.append(directory + filename)\n",
    "\n",
    "#Sort the Files\n",
    "image_path = sorted(image_path)"
   ]
  },
  {
   "cell_type": "code",
   "execution_count": 3,
   "metadata": {},
   "outputs": [],
   "source": [
    "#Function to open and return an array for the image without the null values\n",
    "def open_image(path_to_image):\n",
    "    with rio.open(path_to_image, 'r+') as src:\n",
    "        test_image = src.read()\n",
    "        test_image_meta = src.meta\n",
    "    \n",
    "        #Remove the null portion of the image: 6\n",
    "        test_image = test_image[:5][:][:]\n",
    "        \n",
    "    return test_image"
   ]
  },
  {
   "cell_type": "code",
   "execution_count": 133,
   "metadata": {},
   "outputs": [
    {
     "data": {
      "text/plain": [
       "(7744, 288)"
      ]
     },
     "execution_count": 133,
     "metadata": {},
     "output_type": "execute_result"
    }
   ],
   "source": [
    "#The current network is trained to classify 32x32x5 images\n",
    "#So let's take the current image and break it down into 32x32x5 sections:\n",
    "testy = open_image(image_path[0])\n",
    "test.shape"
   ]
  },
  {
   "cell_type": "code",
   "execution_count": 100,
   "metadata": {},
   "outputs": [],
   "source": [
    "im =testy\n",
    "rolled = np.rollaxis(im,0,3)\n",
    "#This will break down the tiles into 5x32x32 except for the edges.... \n",
    "tiles = [rolled[x:x+32,y:y+32,:5] for x in range(0,rolled.shape[0],32) for y in range(0,rolled.shape[1],32)]\n",
    "\n",
    "#Going to zero fill the border images to create even sized images\n",
    "indices = []\n",
    "filled = tiles\n",
    "for index,arrays in enumerate(tiles):\n",
    "\n",
    "    if arrays.shape != (32,32,5):\n",
    "        indices.append(index)\n",
    "        test = np.zeros((32,32,5))\n",
    "        test[:arrays.shape[0],:arrays.shape[1]] = arrays\n",
    "        filled[index] = test"
   ]
  },
  {
   "cell_type": "code",
   "execution_count": 51,
   "metadata": {},
   "outputs": [],
   "source": [
    "image_stack = np.stack(filled)"
   ]
  },
  {
   "cell_type": "markdown",
   "metadata": {},
   "source": [
    "## Rebuild the Model"
   ]
  },
  {
   "cell_type": "code",
   "execution_count": 9,
   "metadata": {},
   "outputs": [],
   "source": [
    "# Recreate the exact same model, including its weights and the optimizer\n",
    "model = tf.keras.models.load_model('v1_unet_full_model.h5')"
   ]
  },
  {
   "cell_type": "code",
   "execution_count": 53,
   "metadata": {},
   "outputs": [
    {
     "name": "stdout",
     "output_type": "stream",
     "text": [
      "2178/2178 [==============================] - 0s 120us/sample\n"
     ]
    }
   ],
   "source": [
    "#Visualizing predictions: \n",
    "pred = model.predict(image_stack, verbose=1)\n",
    "\n",
    "# Need binary mask: \n",
    "pred = (pred > 0.5).astype(np.uint16)"
   ]
  },
  {
   "cell_type": "markdown",
   "metadata": {},
   "source": [
    "## Visualize the Result"
   ]
  },
  {
   "cell_type": "code",
   "execution_count": 61,
   "metadata": {},
   "outputs": [
    {
     "data": {
      "text/plain": [
       "(32, 32, 1)"
      ]
     },
     "execution_count": 61,
     "metadata": {},
     "output_type": "execute_result"
    }
   ],
   "source": [
    "*image_unstack, = pred\n",
    "image_unstack[0].shape"
   ]
  },
  {
   "cell_type": "code",
   "execution_count": null,
   "metadata": {},
   "outputs": [],
   "source": [
    "result_array = np.empty((0, 100))\n",
    "\n",
    "for line in data_array:\n",
    "    result = do_stuff(line)\n",
    "    result_array = np.append(result_array, [result], axis=0)"
   ]
  },
  {
   "cell_type": "code",
   "execution_count": 93,
   "metadata": {},
   "outputs": [],
   "source": [
    "image_mask  = np.empty((0,288,1))\n",
    "count = 0 \n",
    "temp = np.empty((32,0,1))\n",
    "\n",
    "for things in image_unstack:\n",
    "    count +=1\n",
    "    temp = np.append(temp,things,axis =1)\n",
    "    if count == 9: \n",
    "        image_mask = np.append(image_mask,temp,axis=0)\n",
    "        count = 0 \n",
    "        temp = np.empty((32,0,1))\n",
    "        "
   ]
  },
  {
   "cell_type": "code",
   "execution_count": 104,
   "metadata": {},
   "outputs": [
    {
     "data": {
      "text/plain": [
       "(1, 7744, 288)"
      ]
     },
     "execution_count": 104,
     "metadata": {},
     "output_type": "execute_result"
    }
   ],
   "source": [
    "image_mask = np.rollaxis(image_mask,2,0).shape"
   ]
  },
  {
   "cell_type": "code",
   "execution_count": 120,
   "metadata": {},
   "outputs": [],
   "source": [
    "test = image_mask.reshape(image_mask.shape[0],image_mask.shape[1])"
   ]
  },
  {
   "cell_type": "code",
   "execution_count": 130,
   "metadata": {},
   "outputs": [
    {
     "data": {
      "image/png": "[encoded data removed]",
      "text/plain": [
       "<Figure size 720x720 with 1 Axes>"
      ]
     },
     "metadata": {},
     "output_type": "display_data"
    }
   ],
   "source": [
    "masked_pred = np.ma.masked_where(test == 0, \n",
    "                            test)\n",
    "f, ax = plt.subplots(1, 1)\n",
    "\n",
    "#Plot the image\n",
    "ep.plot_rgb(testy,ax = ax,stretch = True,rgb=[0,1,2])\n",
    "#Plot the Mask\n",
    "ax.imshow(masked_pred, 'jet', interpolation='none', alpha=0.7)\n",
    "ax.set_title('Predictions for Entire Image')\n",
    "\n",
    "plt.show()"
   ]
  },
  {
   "cell_type": "code",
   "execution_count": null,
   "metadata": {},
   "outputs": [],
   "source": []
  }
 ],
 "metadata": {
  "kernelspec": {
   "display_name": "Python 3",
   "language": "python",
   "name": "python3"
  },
  "language_info": {
   "codemirror_mode": {
    "name": "ipython",
    "version": 3
   },
   "file_extension": ".py",
   "mimetype": "text/x-python",
   "name": "python",
   "nbconvert_exporter": "python",
   "pygments_lexer": "ipython3",
   "version": "3.7.7"
  }
 },
 "nbformat": 4,
 "nbformat_minor": 4
}
